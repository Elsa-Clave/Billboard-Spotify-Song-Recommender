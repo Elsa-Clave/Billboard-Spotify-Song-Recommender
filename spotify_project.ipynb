{
 "cells": [
  {
   "cell_type": "markdown",
   "metadata": {},
   "source": [
    "## Spotify Recomender"
   ]
  },
  {
   "cell_type": "markdown",
   "metadata": {},
   "source": [
    "The song recommendation system uses machine learning clustering to provide personalized music suggestions. It starts by scraping the current Billboard top 100 chart with ``scrape_billboard()``, ensuring up-to-date popularity data. The ``audio()`` function collects audio features for songs by a specified artist from the Spotify API, organizing this data into a DataFrame. The ``spoti()`` function then standardizes these features and applies K-Means clustering to group similar songs. When a user inputs a song, ``spoti()`` identifies the closest match within the same cluster and recommends it. The ``hot_recommender()`` function ties everything together by checking if the song is on the Billboard list and providing either a chart-based suggestion or a cluster-based recommendation using the ``spoti()`` function."
   ]
  },
  {
   "cell_type": "code",
   "execution_count": 6,
   "metadata": {},
   "outputs": [],
   "source": [
    "from dotenv import load_dotenv\n",
    "import os\n",
    "import spotipy\n",
    "from spotipy.oauth2 import SpotifyClientCredentials\n",
    "\n",
    "import pandas as pd\n",
    "import numpy as np\n",
    "import matplotlib.pyplot as plt\n",
    "\n",
    "from sklearn.cluster import KMeans\n",
    "from sklearn.metrics import pairwise_distances_argmin_min\n",
    "from sklearn.preprocessing import StandardScaler"
   ]
  },
  {
   "cell_type": "markdown",
   "metadata": {},
   "source": [
    "Using the spotify API and spotipy library:\n",
    "Spotipy is a Python library specifically designed to interact with the Spotify API. It simplifies authentication and requests to Spotify's services, allowing developers to access and manipulate data on the platform, such as playlists, artists, albums, and tracks.\n",
    "\n",
    "Spotipy greatly simplifies interaction with the Spotify API by providing an abstraction layer that handles many of the tedious details associated with HTTP requests and authentication, allowing developers to focus more on their application logic.\n",
    "\n",
    "- https://developer.spotify.com/dashboard/applications"
   ]
  },
  {
   "cell_type": "code",
   "execution_count": 7,
   "metadata": {},
   "outputs": [
    {
     "data": {
      "text/plain": [
       "True"
      ]
     },
     "execution_count": 7,
     "metadata": {},
     "output_type": "execute_result"
    }
   ],
   "source": [
    "#Authentification (keeping user and password in .env document)\n",
    "load_dotenv()"
   ]
  },
  {
   "cell_type": "code",
   "execution_count": 8,
   "metadata": {},
   "outputs": [],
   "source": [
    "user = os.getenv('client')\n",
    "password = os.getenv('token')"
   ]
  },
  {
   "cell_type": "code",
   "execution_count": 9,
   "metadata": {},
   "outputs": [],
   "source": [
    "#Initialize SpotiPy with user credentials\n",
    "sp = spotipy.Spotify(auth_manager=SpotifyClientCredentials(client_id= user,\n",
    "                                                           client_secret= password))"
   ]
  },
  {
   "cell_type": "code",
   "execution_count": 15,
   "metadata": {},
   "outputs": [],
   "source": [
    "#Importig the recommender function called spoti:\n",
    "from recommender import hot_recommender"
   ]
  },
  {
   "cell_type": "code",
   "execution_count": null,
   "metadata": {},
   "outputs": [],
   "source": [
    "#let's use the recommender!:\n",
    "hot_recommender()"
   ]
  }
 ],
 "metadata": {
  "kernelspec": {
   "display_name": "IronHackTest",
   "language": "python",
   "name": "python3"
  },
  "language_info": {
   "codemirror_mode": {
    "name": "ipython",
    "version": 3
   },
   "file_extension": ".py",
   "mimetype": "text/x-python",
   "name": "python",
   "nbconvert_exporter": "python",
   "pygments_lexer": "ipython3",
   "version": "3.11.7"
  }
 },
 "nbformat": 4,
 "nbformat_minor": 2
}
